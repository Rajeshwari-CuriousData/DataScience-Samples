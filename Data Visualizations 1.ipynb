{
 "cells": [
  {
   "cell_type": "code",
   "execution_count": 1,
   "id": "77423f50",
   "metadata": {},
   "outputs": [],
   "source": [
    "import pandas as pd"
   ]
  },
  {
   "cell_type": "code",
   "execution_count": 2,
   "id": "83b471ad",
   "metadata": {},
   "outputs": [],
   "source": [
    "import matplotlib.pyplot as plt"
   ]
  },
  {
   "cell_type": "code",
   "execution_count": 3,
   "id": "d43013ee",
   "metadata": {},
   "outputs": [],
   "source": [
    "student_data={\"s_id\":[1,2,3,4,5],\"s_name\":[\"Raji\",\"Ashwini\",\"Madhu\",\"Shekar\",\"Anil\"],\"s_marks\":[95,90,89,98,75]}"
   ]
  },
  {
   "cell_type": "code",
   "execution_count": 4,
   "id": "130ac61b",
   "metadata": {},
   "outputs": [
    {
     "data": {
      "text/html": [
       "<div>\n",
       "<style scoped>\n",
       "    .dataframe tbody tr th:only-of-type {\n",
       "        vertical-align: middle;\n",
       "    }\n",
       "\n",
       "    .dataframe tbody tr th {\n",
       "        vertical-align: top;\n",
       "    }\n",
       "\n",
       "    .dataframe thead th {\n",
       "        text-align: right;\n",
       "    }\n",
       "</style>\n",
       "<table border=\"1\" class=\"dataframe\">\n",
       "  <thead>\n",
       "    <tr style=\"text-align: right;\">\n",
       "      <th></th>\n",
       "      <th>s_id</th>\n",
       "      <th>s_name</th>\n",
       "      <th>s_marks</th>\n",
       "    </tr>\n",
       "  </thead>\n",
       "  <tbody>\n",
       "    <tr>\n",
       "      <th>0</th>\n",
       "      <td>1</td>\n",
       "      <td>Raji</td>\n",
       "      <td>95</td>\n",
       "    </tr>\n",
       "    <tr>\n",
       "      <th>1</th>\n",
       "      <td>2</td>\n",
       "      <td>Ashwini</td>\n",
       "      <td>90</td>\n",
       "    </tr>\n",
       "    <tr>\n",
       "      <th>2</th>\n",
       "      <td>3</td>\n",
       "      <td>Madhu</td>\n",
       "      <td>89</td>\n",
       "    </tr>\n",
       "    <tr>\n",
       "      <th>3</th>\n",
       "      <td>4</td>\n",
       "      <td>Shekar</td>\n",
       "      <td>98</td>\n",
       "    </tr>\n",
       "    <tr>\n",
       "      <th>4</th>\n",
       "      <td>5</td>\n",
       "      <td>Anil</td>\n",
       "      <td>75</td>\n",
       "    </tr>\n",
       "  </tbody>\n",
       "</table>\n",
       "</div>"
      ],
      "text/plain": [
       "   s_id   s_name  s_marks\n",
       "0     1     Raji       95\n",
       "1     2  Ashwini       90\n",
       "2     3    Madhu       89\n",
       "3     4   Shekar       98\n",
       "4     5     Anil       75"
      ]
     },
     "execution_count": 4,
     "metadata": {},
     "output_type": "execute_result"
    }
   ],
   "source": [
    "df=pd.DataFrame(student_data)\n",
    "df"
   ]
  },
  {
   "cell_type": "markdown",
   "id": "1234a235",
   "metadata": {},
   "source": [
    "##### A bar Graph for single Dataset"
   ]
  },
  {
   "cell_type": "code",
   "execution_count": 5,
   "id": "4aaa11d7",
   "metadata": {},
   "outputs": [
    {
     "data": {
      "image/png": "[encoded data removed]",
      "text/plain": [
       "<Figure size 720x576 with 1 Axes>"
      ]
     },
     "metadata": {
      "needs_background": "light"
     },
     "output_type": "display_data"
    }
   ],
   "source": [
    "fig=plt.figure(figsize=(10,8))\n",
    "x=df[\"s_id\"]\n",
    "y=df[\"s_marks\"]\n",
    "plt.bar(x,y,label=\"student Data\",color=\"black\")\n",
    "plt.xlabel(\"Student_id\")\n",
    "plt.ylabel(\"student_marks\")\n",
    "plt.title(\"Osmania University\")\n",
    "plt.legend()\n",
    "plt.show()"
   ]
  },
  {
   "cell_type": "markdown",
   "id": "c2589744",
   "metadata": {},
   "source": [
    "##### A bar Graph for 2 two datasets"
   ]
  },
  {
   "cell_type": "code",
   "execution_count": 6,
   "id": "c29cab53",
   "metadata": {},
   "outputs": [
    {
     "data": {
      "image/png": "[encoded data removed]",
      "text/plain": [
       "<Figure size 720x576 with 1 Axes>"
      ]
     },
     "metadata": {
      "needs_background": "light"
     },
     "output_type": "display_data"
    }
   ],
   "source": [
    "fig=plt.figure(figsize=(10,8))\n",
    "x=df[\"s_id\"]\n",
    "x1=[1,3,5,7,9]\n",
    "y1=[1000,800,5000,4300,2800]\n",
    "x2=[2,4,6,8,10]\n",
    "y2=[500,1500,3000,4500,2000]\n",
    "plt.bar(x1,y1,label=\"Sales Department\",color=\"black\")\n",
    "plt.bar(x2,y2,label=\"Production Department\",color=\"orange\")\n",
    "plt.xlabel(\"EmployeeData\")\n",
    "plt.ylabel(\"Salaries\")\n",
    "plt.title(\"Micosoft Company\")\n",
    "plt.legend()\n",
    "plt.show()"
   ]
  },
  {
   "cell_type": "code",
   "execution_count": null,
   "id": "30a87f0d",
   "metadata": {},
   "outputs": [],
   "source": []
  },
  {
   "cell_type": "code",
   "execution_count": null,
   "id": "57d1d0e8",
   "metadata": {},
   "outputs": [],
   "source": []
  }
 ],
 "metadata": {
  "kernelspec": {
   "display_name": "Python 3 (ipykernel)",
   "language": "python",
   "name": "python3"
  },
  "language_info": {
   "codemirror_mode": {
    "name": "ipython",
    "version": 3
   },
   "file_extension": ".py",
   "mimetype": "text/x-python",
   "name": "python",
   "nbconvert_exporter": "python",
   "pygments_lexer": "ipython3",
   "version": "3.9.9"
  }
 },
 "nbformat": 4,
 "nbformat_minor": 5
}
